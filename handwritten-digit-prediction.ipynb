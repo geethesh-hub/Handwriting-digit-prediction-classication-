{
 "cells": [
  {
   "cell_type": "code",
   "execution_count": 1,
   "id": "f655d985",
   "metadata": {
    "execution": {
     "iopub.execute_input": "2023-06-01T11:08:31.881313Z",
     "iopub.status.busy": "2023-06-01T11:08:31.880891Z",
     "iopub.status.idle": "2023-06-01T11:08:31.893191Z",
     "shell.execute_reply": "2023-06-01T11:08:31.891993Z"
    },
    "id": "YSzOw9Grm_aK",
    "papermill": {
     "duration": 0.025327,
     "end_time": "2023-06-01T11:08:31.895564",
     "exception": false,
     "start_time": "2023-06-01T11:08:31.870237",
     "status": "completed"
    },
    "tags": []
   },
   "outputs": [],
   "source": [
    "import pandas as pd"
   ]
  },
  {
   "cell_type": "code",
   "execution_count": 2,
   "id": "c8c5a9b4",
   "metadata": {
    "execution": {
     "iopub.execute_input": "2023-06-01T11:08:31.914760Z",
     "iopub.status.busy": "2023-06-01T11:08:31.913987Z",
     "iopub.status.idle": "2023-06-01T11:08:31.918869Z",
     "shell.execute_reply": "2023-06-01T11:08:31.917669Z"
    },
    "id": "0Qdb70WPnL1l",
    "papermill": {
     "duration": 0.01679,
     "end_time": "2023-06-01T11:08:31.921161",
     "exception": false,
     "start_time": "2023-06-01T11:08:31.904371",
     "status": "completed"
    },
    "tags": []
   },
   "outputs": [],
   "source": [
    "import numpy as np"
   ]
  },
  {
   "cell_type": "code",
   "execution_count": 3,
   "id": "9c08ad79",
   "metadata": {
    "execution": {
     "iopub.execute_input": "2023-06-01T11:08:31.940303Z",
     "iopub.status.busy": "2023-06-01T11:08:31.939887Z",
     "iopub.status.idle": "2023-06-01T11:08:31.945223Z",
     "shell.execute_reply": "2023-06-01T11:08:31.943934Z"
    },
    "id": "sOgwHO9InOdN",
    "papermill": {
     "duration": 0.017658,
     "end_time": "2023-06-01T11:08:31.947806",
     "exception": false,
     "start_time": "2023-06-01T11:08:31.930148",
     "status": "completed"
    },
    "tags": []
   },
   "outputs": [],
   "source": [
    "import matplotlib.pyplot as plt"
   ]
  },
  {
   "cell_type": "code",
   "execution_count": 4,
   "id": "e19210d1",
   "metadata": {
    "execution": {
     "iopub.execute_input": "2023-06-01T11:08:31.967178Z",
     "iopub.status.busy": "2023-06-01T11:08:31.966763Z",
     "iopub.status.idle": "2023-06-01T11:08:33.530241Z",
     "shell.execute_reply": "2023-06-01T11:08:33.529034Z"
    },
    "id": "esMCz-BLnRpF",
    "papermill": {
     "duration": 1.576686,
     "end_time": "2023-06-01T11:08:33.533038",
     "exception": false,
     "start_time": "2023-06-01T11:08:31.956352",
     "status": "completed"
    },
    "tags": []
   },
   "outputs": [],
   "source": [
    "from sklearn.datasets import load_digits"
   ]
  },
  {
   "cell_type": "code",
   "execution_count": 5,
   "id": "a721916b",
   "metadata": {
    "execution": {
     "iopub.execute_input": "2023-06-01T11:08:33.554206Z",
     "iopub.status.busy": "2023-06-01T11:08:33.553010Z",
     "iopub.status.idle": "2023-06-01T11:08:33.581842Z",
     "shell.execute_reply": "2023-06-01T11:08:33.580650Z"
    },
    "id": "fBaoGGulnV5R",
    "papermill": {
     "duration": 0.042977,
     "end_time": "2023-06-01T11:08:33.584599",
     "exception": false,
     "start_time": "2023-06-01T11:08:33.541622",
     "status": "completed"
    },
    "tags": []
   },
   "outputs": [],
   "source": [
    "df = load_digits()"
   ]
  },
  {
   "cell_type": "code",
   "execution_count": 6,
   "id": "7afb80fb",
   "metadata": {
    "execution": {
     "iopub.execute_input": "2023-06-01T11:08:33.603787Z",
     "iopub.status.busy": "2023-06-01T11:08:33.603160Z",
     "iopub.status.idle": "2023-06-01T11:08:34.038452Z",
     "shell.execute_reply": "2023-06-01T11:08:34.037192Z"
    },
    "id": "d1s0c6hsnaec",
    "outputId": "30334d27-d1e3-4cb2-9cae-9e0724e72613",
    "papermill": {
     "duration": 0.44766,
     "end_time": "2023-06-01T11:08:34.040900",
     "exception": false,
     "start_time": "2023-06-01T11:08:33.593240",
     "status": "completed"
    },
    "tags": []
   },
   "outputs": [
    {
     "data": {
      "image/png": "[encoded data removed]",
      "text/plain": [
       "<Figure size 1000x300 with 4 Axes>"
      ]
     },
     "metadata": {},
     "output_type": "display_data"
    }
   ],
   "source": [
    "_, axes = plt.subplots(nrows=1, ncols=4, figsize=(10,3))\n",
    "for ax, image, label in zip(axes,df.images,df.target) :\n",
    "  ax.set_axis_off()\n",
    "  ax.imshow(image,cmap=plt.cm.gray_r,interpolation=\"nearest\")\n",
    "  ax.set_title(\"Training: %i\" % label)"
   ]
  },
  {
   "cell_type": "code",
   "execution_count": 7,
   "id": "90bfe653",
   "metadata": {
    "execution": {
     "iopub.execute_input": "2023-06-01T11:08:34.060894Z",
     "iopub.status.busy": "2023-06-01T11:08:34.060441Z",
     "iopub.status.idle": "2023-06-01T11:08:34.067511Z",
     "shell.execute_reply": "2023-06-01T11:08:34.066446Z"
    },
    "id": "zJg8RWBDn8-O",
    "outputId": "680cf101-0624-4c02-f857-23abca08ad35",
    "papermill": {
     "duration": 0.019812,
     "end_time": "2023-06-01T11:08:34.069842",
     "exception": false,
     "start_time": "2023-06-01T11:08:34.050030",
     "status": "completed"
    },
    "tags": []
   },
   "outputs": [
    {
     "data": {
      "text/plain": [
       "(1797, 8, 8)"
      ]
     },
     "execution_count": 7,
     "metadata": {},
     "output_type": "execute_result"
    }
   ],
   "source": [
    "df.images.shape"
   ]
  },
  {
   "cell_type": "code",
   "execution_count": 8,
   "id": "902c9c57",
   "metadata": {
    "execution": {
     "iopub.execute_input": "2023-06-01T11:08:34.091111Z",
     "iopub.status.busy": "2023-06-01T11:08:34.089891Z",
     "iopub.status.idle": "2023-06-01T11:08:34.097858Z",
     "shell.execute_reply": "2023-06-01T11:08:34.096799Z"
    },
    "id": "Ki4dIp8BoFSY",
    "outputId": "2458d6e8-a901-47ac-9704-53c71b958aff",
    "papermill": {
     "duration": 0.020644,
     "end_time": "2023-06-01T11:08:34.100081",
     "exception": false,
     "start_time": "2023-06-01T11:08:34.079437",
     "status": "completed"
    },
    "tags": []
   },
   "outputs": [
    {
     "data": {
      "text/plain": [
       "array([[ 0.,  0.,  5., 13.,  9.,  1.,  0.,  0.],\n",
       "       [ 0.,  0., 13., 15., 10., 15.,  5.,  0.],\n",
       "       [ 0.,  3., 15.,  2.,  0., 11.,  8.,  0.],\n",
       "       [ 0.,  4., 12.,  0.,  0.,  8.,  8.,  0.],\n",
       "       [ 0.,  5.,  8.,  0.,  0.,  9.,  8.,  0.],\n",
       "       [ 0.,  4., 11.,  0.,  1., 12.,  7.,  0.],\n",
       "       [ 0.,  2., 14.,  5., 10., 12.,  0.,  0.],\n",
       "       [ 0.,  0.,  6., 13., 10.,  0.,  0.,  0.]])"
      ]
     },
     "execution_count": 8,
     "metadata": {},
     "output_type": "execute_result"
    }
   ],
   "source": [
    "df.images[0]"
   ]
  },
  {
   "cell_type": "code",
   "execution_count": 9,
   "id": "dd919412",
   "metadata": {
    "execution": {
     "iopub.execute_input": "2023-06-01T11:08:34.120636Z",
     "iopub.status.busy": "2023-06-01T11:08:34.120008Z",
     "iopub.status.idle": "2023-06-01T11:08:34.125672Z",
     "shell.execute_reply": "2023-06-01T11:08:34.124785Z"
    },
    "id": "mYR4lnlkoI2m",
    "outputId": "a0258c16-fc68-431f-afcf-42605445340a",
    "papermill": {
     "duration": 0.018777,
     "end_time": "2023-06-01T11:08:34.128152",
     "exception": false,
     "start_time": "2023-06-01T11:08:34.109375",
     "status": "completed"
    },
    "tags": []
   },
   "outputs": [
    {
     "data": {
      "text/plain": [
       "(8, 8)"
      ]
     },
     "execution_count": 9,
     "metadata": {},
     "output_type": "execute_result"
    }
   ],
   "source": [
    "df.images[0].shape"
   ]
  },
  {
   "cell_type": "code",
   "execution_count": 10,
   "id": "2ff18fe2",
   "metadata": {
    "execution": {
     "iopub.execute_input": "2023-06-01T11:08:34.149242Z",
     "iopub.status.busy": "2023-06-01T11:08:34.148622Z",
     "iopub.status.idle": "2023-06-01T11:08:34.153883Z",
     "shell.execute_reply": "2023-06-01T11:08:34.153135Z"
    },
    "id": "YgMlMtDeoNmK",
    "outputId": "53abf036-f672-4c64-ad4a-369dce46780a",
    "papermill": {
     "duration": 0.018464,
     "end_time": "2023-06-01T11:08:34.156129",
     "exception": false,
     "start_time": "2023-06-01T11:08:34.137665",
     "status": "completed"
    },
    "tags": []
   },
   "outputs": [
    {
     "data": {
      "text/plain": [
       "1797"
      ]
     },
     "execution_count": 10,
     "metadata": {},
     "output_type": "execute_result"
    }
   ],
   "source": [
    "len(df.images)"
   ]
  },
  {
   "cell_type": "code",
   "execution_count": 11,
   "id": "336d4859",
   "metadata": {
    "execution": {
     "iopub.execute_input": "2023-06-01T11:08:34.177949Z",
     "iopub.status.busy": "2023-06-01T11:08:34.177321Z",
     "iopub.status.idle": "2023-06-01T11:08:34.181591Z",
     "shell.execute_reply": "2023-06-01T11:08:34.180834Z"
    },
    "id": "GvGdEG9OoQPk",
    "papermill": {
     "duration": 0.017915,
     "end_time": "2023-06-01T11:08:34.183832",
     "exception": false,
     "start_time": "2023-06-01T11:08:34.165917",
     "status": "completed"
    },
    "tags": []
   },
   "outputs": [],
   "source": [
    "n_samples = len(df.images)\n",
    "data = df.images.reshape((n_samples,-1))"
   ]
  },
  {
   "cell_type": "code",
   "execution_count": 12,
   "id": "1811d881",
   "metadata": {
    "execution": {
     "iopub.execute_input": "2023-06-01T11:08:34.205589Z",
     "iopub.status.busy": "2023-06-01T11:08:34.204975Z",
     "iopub.status.idle": "2023-06-01T11:08:34.212306Z",
     "shell.execute_reply": "2023-06-01T11:08:34.211022Z"
    },
    "id": "R3iBuocGoYFr",
    "outputId": "d55db805-45cd-4465-f7d9-e35a9ac7b789",
    "papermill": {
     "duration": 0.021085,
     "end_time": "2023-06-01T11:08:34.214731",
     "exception": false,
     "start_time": "2023-06-01T11:08:34.193646",
     "status": "completed"
    },
    "tags": []
   },
   "outputs": [
    {
     "data": {
      "text/plain": [
       "array([ 0.,  0.,  5., 13.,  9.,  1.,  0.,  0.,  0.,  0., 13., 15., 10.,\n",
       "       15.,  5.,  0.,  0.,  3., 15.,  2.,  0., 11.,  8.,  0.,  0.,  4.,\n",
       "       12.,  0.,  0.,  8.,  8.,  0.,  0.,  5.,  8.,  0.,  0.,  9.,  8.,\n",
       "        0.,  0.,  4., 11.,  0.,  1., 12.,  7.,  0.,  0.,  2., 14.,  5.,\n",
       "       10., 12.,  0.,  0.,  0.,  0.,  6., 13., 10.,  0.,  0.,  0.])"
      ]
     },
     "execution_count": 12,
     "metadata": {},
     "output_type": "execute_result"
    }
   ],
   "source": [
    "data[0]"
   ]
  },
  {
   "cell_type": "code",
   "execution_count": 13,
   "id": "d21a462a",
   "metadata": {
    "execution": {
     "iopub.execute_input": "2023-06-01T11:08:34.237168Z",
     "iopub.status.busy": "2023-06-01T11:08:34.236754Z",
     "iopub.status.idle": "2023-06-01T11:08:34.243715Z",
     "shell.execute_reply": "2023-06-01T11:08:34.242692Z"
    },
    "id": "QXA7Eg3uobhO",
    "outputId": "c5aa134b-9b09-4d24-ea69-a7567ad7b3e3",
    "papermill": {
     "duration": 0.020881,
     "end_time": "2023-06-01T11:08:34.246010",
     "exception": false,
     "start_time": "2023-06-01T11:08:34.225129",
     "status": "completed"
    },
    "tags": []
   },
   "outputs": [
    {
     "data": {
      "text/plain": [
       "(64,)"
      ]
     },
     "execution_count": 13,
     "metadata": {},
     "output_type": "execute_result"
    }
   ],
   "source": [
    "data[0].shape"
   ]
  },
  {
   "cell_type": "code",
   "execution_count": 14,
   "id": "471caf56",
   "metadata": {
    "execution": {
     "iopub.execute_input": "2023-06-01T11:08:34.268584Z",
     "iopub.status.busy": "2023-06-01T11:08:34.268207Z",
     "iopub.status.idle": "2023-06-01T11:08:34.275099Z",
     "shell.execute_reply": "2023-06-01T11:08:34.273931Z"
    },
    "id": "qOlL_fRXobpU",
    "outputId": "bb0e8e98-f934-4b9b-a169-e1b3f26bf98c",
    "papermill": {
     "duration": 0.020976,
     "end_time": "2023-06-01T11:08:34.277361",
     "exception": false,
     "start_time": "2023-06-01T11:08:34.256385",
     "status": "completed"
    },
    "tags": []
   },
   "outputs": [
    {
     "data": {
      "text/plain": [
       "(1797, 64)"
      ]
     },
     "execution_count": 14,
     "metadata": {},
     "output_type": "execute_result"
    }
   ],
   "source": [
    "data.shape"
   ]
  },
  {
   "cell_type": "code",
   "execution_count": 15,
   "id": "0011a726",
   "metadata": {
    "execution": {
     "iopub.execute_input": "2023-06-01T11:08:34.300487Z",
     "iopub.status.busy": "2023-06-01T11:08:34.300058Z",
     "iopub.status.idle": "2023-06-01T11:08:34.307781Z",
     "shell.execute_reply": "2023-06-01T11:08:34.306891Z"
    },
    "id": "IcSuG8yiongX",
    "outputId": "53f141d1-90b2-4dd2-d2f3-0168f8af0b2b",
    "papermill": {
     "duration": 0.02195,
     "end_time": "2023-06-01T11:08:34.310127",
     "exception": false,
     "start_time": "2023-06-01T11:08:34.288177",
     "status": "completed"
    },
    "tags": []
   },
   "outputs": [
    {
     "data": {
      "text/plain": [
       "0.0"
      ]
     },
     "execution_count": 15,
     "metadata": {},
     "output_type": "execute_result"
    }
   ],
   "source": [
    "data.min()"
   ]
  },
  {
   "cell_type": "code",
   "execution_count": 16,
   "id": "1280da6d",
   "metadata": {
    "execution": {
     "iopub.execute_input": "2023-06-01T11:08:34.333993Z",
     "iopub.status.busy": "2023-06-01T11:08:34.333569Z",
     "iopub.status.idle": "2023-06-01T11:08:34.340501Z",
     "shell.execute_reply": "2023-06-01T11:08:34.339675Z"
    },
    "id": "ec2iQ5vloqZx",
    "outputId": "83a98262-1ea8-423f-e6a2-c68da81f7cd2",
    "papermill": {
     "duration": 0.021831,
     "end_time": "2023-06-01T11:08:34.342770",
     "exception": false,
     "start_time": "2023-06-01T11:08:34.320939",
     "status": "completed"
    },
    "tags": []
   },
   "outputs": [
    {
     "data": {
      "text/plain": [
       "16.0"
      ]
     },
     "execution_count": 16,
     "metadata": {},
     "output_type": "execute_result"
    }
   ],
   "source": [
    "data.max()"
   ]
  },
  {
   "cell_type": "code",
   "execution_count": 17,
   "id": "7577513c",
   "metadata": {
    "execution": {
     "iopub.execute_input": "2023-06-01T11:08:34.366952Z",
     "iopub.status.busy": "2023-06-01T11:08:34.366165Z",
     "iopub.status.idle": "2023-06-01T11:08:34.371805Z",
     "shell.execute_reply": "2023-06-01T11:08:34.370646Z"
    },
    "id": "coja0t8Pots1",
    "papermill": {
     "duration": 0.020547,
     "end_time": "2023-06-01T11:08:34.374293",
     "exception": false,
     "start_time": "2023-06-01T11:08:34.353746",
     "status": "completed"
    },
    "tags": []
   },
   "outputs": [],
   "source": [
    "data=data/16"
   ]
  },
  {
   "cell_type": "code",
   "execution_count": 18,
   "id": "715e4bc1",
   "metadata": {
    "execution": {
     "iopub.execute_input": "2023-06-01T11:08:34.397992Z",
     "iopub.status.busy": "2023-06-01T11:08:34.397567Z",
     "iopub.status.idle": "2023-06-01T11:08:34.405033Z",
     "shell.execute_reply": "2023-06-01T11:08:34.403906Z"
    },
    "id": "WklOq8MUovYz",
    "outputId": "8d50130e-1e29-4792-aa4c-d4a7525f763e",
    "papermill": {
     "duration": 0.022217,
     "end_time": "2023-06-01T11:08:34.407421",
     "exception": false,
     "start_time": "2023-06-01T11:08:34.385204",
     "status": "completed"
    },
    "tags": []
   },
   "outputs": [
    {
     "data": {
      "text/plain": [
       "0.0"
      ]
     },
     "execution_count": 18,
     "metadata": {},
     "output_type": "execute_result"
    }
   ],
   "source": [
    "data.min()"
   ]
  },
  {
   "cell_type": "code",
   "execution_count": 19,
   "id": "e90251e8",
   "metadata": {
    "execution": {
     "iopub.execute_input": "2023-06-01T11:08:34.431594Z",
     "iopub.status.busy": "2023-06-01T11:08:34.431220Z",
     "iopub.status.idle": "2023-06-01T11:08:34.437625Z",
     "shell.execute_reply": "2023-06-01T11:08:34.436847Z"
    },
    "id": "-lKSjSkvoxsv",
    "outputId": "65d1cf73-fd8e-4c6b-ba70-f91f9fe68dcd",
    "papermill": {
     "duration": 0.021338,
     "end_time": "2023-06-01T11:08:34.439874",
     "exception": false,
     "start_time": "2023-06-01T11:08:34.418536",
     "status": "completed"
    },
    "tags": []
   },
   "outputs": [
    {
     "data": {
      "text/plain": [
       "1.0"
      ]
     },
     "execution_count": 19,
     "metadata": {},
     "output_type": "execute_result"
    }
   ],
   "source": [
    "data.max()"
   ]
  },
  {
   "cell_type": "code",
   "execution_count": 20,
   "id": "664d2371",
   "metadata": {
    "execution": {
     "iopub.execute_input": "2023-06-01T11:08:34.464662Z",
     "iopub.status.busy": "2023-06-01T11:08:34.464226Z",
     "iopub.status.idle": "2023-06-01T11:08:34.471307Z",
     "shell.execute_reply": "2023-06-01T11:08:34.470496Z"
    },
    "id": "4Ybf47X7ozrZ",
    "outputId": "456aaea0-a5e4-4a87-c74a-a71ba581cb97",
    "papermill": {
     "duration": 0.022229,
     "end_time": "2023-06-01T11:08:34.473474",
     "exception": false,
     "start_time": "2023-06-01T11:08:34.451245",
     "status": "completed"
    },
    "tags": []
   },
   "outputs": [
    {
     "data": {
      "text/plain": [
       "array([0.    , 0.    , 0.3125, 0.8125, 0.5625, 0.0625, 0.    , 0.    ,\n",
       "       0.    , 0.    , 0.8125, 0.9375, 0.625 , 0.9375, 0.3125, 0.    ,\n",
       "       0.    , 0.1875, 0.9375, 0.125 , 0.    , 0.6875, 0.5   , 0.    ,\n",
       "       0.    , 0.25  , 0.75  , 0.    , 0.    , 0.5   , 0.5   , 0.    ,\n",
       "       0.    , 0.3125, 0.5   , 0.    , 0.    , 0.5625, 0.5   , 0.    ,\n",
       "       0.    , 0.25  , 0.6875, 0.    , 0.0625, 0.75  , 0.4375, 0.    ,\n",
       "       0.    , 0.125 , 0.875 , 0.3125, 0.625 , 0.75  , 0.    , 0.    ,\n",
       "       0.    , 0.    , 0.375 , 0.8125, 0.625 , 0.    , 0.    , 0.    ])"
      ]
     },
     "execution_count": 20,
     "metadata": {},
     "output_type": "execute_result"
    }
   ],
   "source": [
    "data[0]"
   ]
  },
  {
   "cell_type": "code",
   "execution_count": 21,
   "id": "98141252",
   "metadata": {
    "execution": {
     "iopub.execute_input": "2023-06-01T11:08:34.498165Z",
     "iopub.status.busy": "2023-06-01T11:08:34.497754Z",
     "iopub.status.idle": "2023-06-01T11:08:34.611082Z",
     "shell.execute_reply": "2023-06-01T11:08:34.610123Z"
    },
    "id": "0GyzYdfao2Un",
    "papermill": {
     "duration": 0.128622,
     "end_time": "2023-06-01T11:08:34.613573",
     "exception": false,
     "start_time": "2023-06-01T11:08:34.484951",
     "status": "completed"
    },
    "tags": []
   },
   "outputs": [],
   "source": [
    "from sklearn.model_selection import train_test_split"
   ]
  },
  {
   "cell_type": "code",
   "execution_count": 22,
   "id": "01615a6b",
   "metadata": {
    "execution": {
     "iopub.execute_input": "2023-06-01T11:08:34.638927Z",
     "iopub.status.busy": "2023-06-01T11:08:34.638513Z",
     "iopub.status.idle": "2023-06-01T11:08:34.644456Z",
     "shell.execute_reply": "2023-06-01T11:08:34.643399Z"
    },
    "id": "1ATYvN30o_49",
    "papermill": {
     "duration": 0.021212,
     "end_time": "2023-06-01T11:08:34.646683",
     "exception": false,
     "start_time": "2023-06-01T11:08:34.625471",
     "status": "completed"
    },
    "tags": []
   },
   "outputs": [],
   "source": [
    "X_train, X_test, y_train, y_test = train_test_split(data,df.target,test_size=0.3)"
   ]
  },
  {
   "cell_type": "code",
   "execution_count": 23,
   "id": "c21addf7",
   "metadata": {
    "execution": {
     "iopub.execute_input": "2023-06-01T11:08:34.672395Z",
     "iopub.status.busy": "2023-06-01T11:08:34.672001Z",
     "iopub.status.idle": "2023-06-01T11:08:34.678734Z",
     "shell.execute_reply": "2023-06-01T11:08:34.677878Z"
    },
    "id": "HztQ2vqApJQH",
    "outputId": "cb0e7447-debc-4ee3-c6ad-6ec180b6d71c",
    "papermill": {
     "duration": 0.022282,
     "end_time": "2023-06-01T11:08:34.680841",
     "exception": false,
     "start_time": "2023-06-01T11:08:34.658559",
     "status": "completed"
    },
    "tags": []
   },
   "outputs": [
    {
     "data": {
      "text/plain": [
       "((1257, 64), (540, 64), (1257,), (540,))"
      ]
     },
     "execution_count": 23,
     "metadata": {},
     "output_type": "execute_result"
    }
   ],
   "source": [
    "X_train.shape, X_test.shape, y_train.shape, y_test.shape"
   ]
  },
  {
   "cell_type": "code",
   "execution_count": 24,
   "id": "4def2be3",
   "metadata": {
    "execution": {
     "iopub.execute_input": "2023-06-01T11:08:34.706593Z",
     "iopub.status.busy": "2023-06-01T11:08:34.706225Z",
     "iopub.status.idle": "2023-06-01T11:08:35.125646Z",
     "shell.execute_reply": "2023-06-01T11:08:35.124597Z"
    },
    "id": "T44NmWI-pPzX",
    "papermill": {
     "duration": 0.435849,
     "end_time": "2023-06-01T11:08:35.128637",
     "exception": false,
     "start_time": "2023-06-01T11:08:34.692788",
     "status": "completed"
    },
    "tags": []
   },
   "outputs": [],
   "source": [
    "from sklearn.ensemble import RandomForestClassifier"
   ]
  },
  {
   "cell_type": "code",
   "execution_count": 25,
   "id": "a254544a",
   "metadata": {
    "execution": {
     "iopub.execute_input": "2023-06-01T11:08:35.154710Z",
     "iopub.status.busy": "2023-06-01T11:08:35.154323Z",
     "iopub.status.idle": "2023-06-01T11:08:35.158882Z",
     "shell.execute_reply": "2023-06-01T11:08:35.158040Z"
    },
    "id": "UFX-ePdYpW9S",
    "papermill": {
     "duration": 0.020045,
     "end_time": "2023-06-01T11:08:35.160936",
     "exception": false,
     "start_time": "2023-06-01T11:08:35.140891",
     "status": "completed"
    },
    "tags": []
   },
   "outputs": [],
   "source": [
    "rf = RandomForestClassifier()"
   ]
  },
  {
   "cell_type": "code",
   "execution_count": 26,
   "id": "25496789",
   "metadata": {
    "execution": {
     "iopub.execute_input": "2023-06-01T11:08:35.186945Z",
     "iopub.status.busy": "2023-06-01T11:08:35.186517Z",
     "iopub.status.idle": "2023-06-01T11:08:35.645481Z",
     "shell.execute_reply": "2023-06-01T11:08:35.644375Z"
    },
    "id": "rJCIvpgXpY2K",
    "outputId": "2f0b092f-16eb-4d3c-8c5d-574f3837cae5",
    "papermill": {
     "duration": 0.475116,
     "end_time": "2023-06-01T11:08:35.648025",
     "exception": false,
     "start_time": "2023-06-01T11:08:35.172909",
     "status": "completed"
    },
    "tags": []
   },
   "outputs": [
    {
     "data": {
      "text/html": [
       "<style>#sk-container-id-1 {color: black;background-color: white;}#sk-container-id-1 pre{padding: 0;}#sk-container-id-1 div.sk-toggleable {background-color: white;}#sk-container-id-1 label.sk-toggleable__label {cursor: pointer;display: block;width: 100%;margin-bottom: 0;padding: 0.3em;box-sizing: border-box;text-align: center;}#sk-container-id-1 label.sk-toggleable__label-arrow:before {content: \"▸\";float: left;margin-right: 0.25em;color: #696969;}#sk-container-id-1 label.sk-toggleable__label-arrow:hover:before {color: black;}#sk-container-id-1 div.sk-estimator:hover label.sk-toggleable__label-arrow:before {color: black;}#sk-container-id-1 div.sk-toggleable__content {max-height: 0;max-width: 0;overflow: hidden;text-align: left;background-color: #f0f8ff;}#sk-container-id-1 div.sk-toggleable__content pre {margin: 0.2em;color: black;border-radius: 0.25em;background-color: #f0f8ff;}#sk-container-id-1 input.sk-toggleable__control:checked~div.sk-toggleable__content {max-height: 200px;max-width: 100%;overflow: auto;}#sk-container-id-1 input.sk-toggleable__control:checked~label.sk-toggleable__label-arrow:before {content: \"▾\";}#sk-container-id-1 div.sk-estimator input.sk-toggleable__control:checked~label.sk-toggleable__label {background-color: #d4ebff;}#sk-container-id-1 div.sk-label input.sk-toggleable__control:checked~label.sk-toggleable__label {background-color: #d4ebff;}#sk-container-id-1 input.sk-hidden--visually {border: 0;clip: rect(1px 1px 1px 1px);clip: rect(1px, 1px, 1px, 1px);height: 1px;margin: -1px;overflow: hidden;padding: 0;position: absolute;width: 1px;}#sk-container-id-1 div.sk-estimator {font-family: monospace;background-color: #f0f8ff;border: 1px dotted black;border-radius: 0.25em;box-sizing: border-box;margin-bottom: 0.5em;}#sk-container-id-1 div.sk-estimator:hover {background-color: #d4ebff;}#sk-container-id-1 div.sk-parallel-item::after {content: \"\";width: 100%;border-bottom: 1px solid gray;flex-grow: 1;}#sk-container-id-1 div.sk-label:hover label.sk-toggleable__label {background-color: #d4ebff;}#sk-container-id-1 div.sk-serial::before {content: \"\";position: absolute;border-left: 1px solid gray;box-sizing: border-box;top: 0;bottom: 0;left: 50%;z-index: 0;}#sk-container-id-1 div.sk-serial {display: flex;flex-direction: column;align-items: center;background-color: white;padding-right: 0.2em;padding-left: 0.2em;position: relative;}#sk-container-id-1 div.sk-item {position: relative;z-index: 1;}#sk-container-id-1 div.sk-parallel {display: flex;align-items: stretch;justify-content: center;background-color: white;position: relative;}#sk-container-id-1 div.sk-item::before, #sk-container-id-1 div.sk-parallel-item::before {content: \"\";position: absolute;border-left: 1px solid gray;box-sizing: border-box;top: 0;bottom: 0;left: 50%;z-index: -1;}#sk-container-id-1 div.sk-parallel-item {display: flex;flex-direction: column;z-index: 1;position: relative;background-color: white;}#sk-container-id-1 div.sk-parallel-item:first-child::after {align-self: flex-end;width: 50%;}#sk-container-id-1 div.sk-parallel-item:last-child::after {align-self: flex-start;width: 50%;}#sk-container-id-1 div.sk-parallel-item:only-child::after {width: 0;}#sk-container-id-1 div.sk-dashed-wrapped {border: 1px dashed gray;margin: 0 0.4em 0.5em 0.4em;box-sizing: border-box;padding-bottom: 0.4em;background-color: white;}#sk-container-id-1 div.sk-label label {font-family: monospace;font-weight: bold;display: inline-block;line-height: 1.2em;}#sk-container-id-1 div.sk-label-container {text-align: center;}#sk-container-id-1 div.sk-container {/* jupyter's `normalize.less` sets `[hidden] { display: none; }` but bootstrap.min.css set `[hidden] { display: none !important; }` so we also need the `!important` here to be able to override the default hidden behavior on the sphinx rendered scikit-learn.org. See: https://github.com/scikit-learn/scikit-learn/issues/21755 */display: inline-block !important;position: relative;}#sk-container-id-1 div.sk-text-repr-fallback {display: none;}</style><div id=\"sk-container-id-1\" class=\"sk-top-container\"><div class=\"sk-text-repr-fallback\"><pre>RandomForestClassifier()</pre><b>In a Jupyter environment, please rerun this cell to show the HTML representation or trust the notebook. <br />On GitHub, the HTML representation is unable to render, please try loading this page with nbviewer.org.</b></div><div class=\"sk-container\" hidden><div class=\"sk-item\"><div class=\"sk-estimator sk-toggleable\"><input class=\"sk-toggleable__control sk-hidden--visually\" id=\"sk-estimator-id-1\" type=\"checkbox\" checked><label for=\"sk-estimator-id-1\" class=\"sk-toggleable__label sk-toggleable__label-arrow\">RandomForestClassifier</label><div class=\"sk-toggleable__content\"><pre>RandomForestClassifier()</pre></div></div></div></div></div>"
      ],
      "text/plain": [
       "RandomForestClassifier()"
      ]
     },
     "execution_count": 26,
     "metadata": {},
     "output_type": "execute_result"
    }
   ],
   "source": [
    "rf.fit(X_train,y_train)"
   ]
  },
  {
   "cell_type": "code",
   "execution_count": 27,
   "id": "10fa1632",
   "metadata": {
    "execution": {
     "iopub.execute_input": "2023-06-01T11:08:35.674633Z",
     "iopub.status.busy": "2023-06-01T11:08:35.674216Z",
     "iopub.status.idle": "2023-06-01T11:08:35.704716Z",
     "shell.execute_reply": "2023-06-01T11:08:35.703497Z"
    },
    "id": "6vwgSMkFpeVt",
    "papermill": {
     "duration": 0.047232,
     "end_time": "2023-06-01T11:08:35.707662",
     "exception": false,
     "start_time": "2023-06-01T11:08:35.660430",
     "status": "completed"
    },
    "tags": []
   },
   "outputs": [],
   "source": [
    "y_pred = rf.predict(X_test)"
   ]
  },
  {
   "cell_type": "code",
   "execution_count": 28,
   "id": "635ba0e4",
   "metadata": {
    "execution": {
     "iopub.execute_input": "2023-06-01T11:08:35.734940Z",
     "iopub.status.busy": "2023-06-01T11:08:35.734512Z",
     "iopub.status.idle": "2023-06-01T11:08:35.743728Z",
     "shell.execute_reply": "2023-06-01T11:08:35.742650Z"
    },
    "id": "8mZGo4TXpjfR",
    "outputId": "34b3ab44-e26c-4eeb-8f29-51c1c5a352b1",
    "papermill": {
     "duration": 0.025827,
     "end_time": "2023-06-01T11:08:35.746115",
     "exception": false,
     "start_time": "2023-06-01T11:08:35.720288",
     "status": "completed"
    },
    "tags": []
   },
   "outputs": [
    {
     "data": {
      "text/plain": [
       "array([5, 1, 0, 6, 8, 7, 7, 6, 0, 6, 8, 8, 0, 7, 9, 3, 5, 3, 9, 3, 8, 1,\n",
       "       3, 6, 1, 7, 2, 4, 2, 3, 9, 7, 6, 6, 3, 0, 8, 1, 5, 5, 8, 4, 2, 5,\n",
       "       6, 3, 3, 2, 9, 4, 7, 7, 0, 4, 1, 6, 8, 5, 2, 2, 7, 3, 3, 6, 1, 7,\n",
       "       2, 3, 3, 7, 1, 1, 5, 6, 8, 6, 0, 3, 6, 7, 2, 3, 5, 9, 2, 2, 6, 1,\n",
       "       2, 0, 5, 0, 4, 7, 8, 5, 6, 8, 6, 1, 3, 6, 7, 0, 2, 0, 1, 1, 7, 4,\n",
       "       4, 8, 7, 9, 7, 5, 2, 6, 4, 0, 7, 5, 4, 8, 0, 1, 4, 4, 6, 5, 7, 0,\n",
       "       5, 5, 5, 4, 7, 5, 3, 4, 9, 5, 1, 2, 3, 0, 7, 8, 9, 5, 6, 4, 6, 5,\n",
       "       1, 2, 6, 3, 2, 2, 0, 7, 0, 8, 9, 1, 2, 7, 2, 5, 7, 1, 1, 9, 0, 8,\n",
       "       9, 5, 3, 0, 8, 5, 2, 9, 4, 1, 9, 8, 2, 7, 4, 8, 2, 2, 6, 7, 0, 8,\n",
       "       3, 4, 2, 9, 4, 0, 4, 8, 9, 4, 5, 4, 1, 2, 4, 8, 0, 6, 4, 7, 1, 9,\n",
       "       9, 9, 2, 0, 7, 7, 7, 5, 7, 0, 0, 0, 1, 2, 3, 3, 3, 0, 0, 5, 2, 4,\n",
       "       7, 5, 5, 1, 8, 5, 6, 1, 7, 3, 6, 9, 7, 8, 3, 8, 6, 4, 9, 9, 0, 2,\n",
       "       6, 9, 3, 3, 4, 3, 8, 9, 9, 4, 2, 3, 7, 6, 8, 3, 4, 4, 8, 1, 3, 3,\n",
       "       1, 5, 4, 7, 5, 7, 6, 8, 8, 6, 1, 1, 4, 0, 0, 3, 9, 2, 6, 4, 6, 0,\n",
       "       5, 6, 3, 0, 4, 1, 8, 2, 8, 4, 9, 8, 5, 5, 3, 4, 3, 0, 0, 1, 1, 7,\n",
       "       5, 7, 2, 8, 1, 4, 2, 9, 3, 1, 8, 9, 6, 9, 1, 7, 9, 5, 7, 8, 7, 2,\n",
       "       4, 4, 3, 6, 0, 3, 1, 9, 4, 1, 5, 8, 6, 3, 8, 6, 4, 9, 6, 4, 9, 4,\n",
       "       5, 9, 7, 4, 9, 8, 3, 7, 1, 7, 4, 3, 7, 1, 2, 9, 3, 9, 5, 4, 6, 6,\n",
       "       7, 0, 6, 4, 3, 8, 3, 4, 6, 1, 7, 2, 5, 8, 0, 2, 8, 2, 3, 4, 7, 3,\n",
       "       3, 3, 2, 0, 6, 3, 8, 1, 0, 9, 5, 7, 4, 4, 5, 2, 5, 6, 3, 4, 2, 6,\n",
       "       7, 0, 8, 9, 6, 8, 4, 6, 7, 9, 2, 0, 3, 8, 8, 4, 7, 2, 6, 9, 9, 9,\n",
       "       1, 4, 0, 0, 7, 5, 5, 6, 8, 1, 0, 7, 4, 4, 1, 5, 0, 1, 6, 8, 7, 0,\n",
       "       4, 9, 9, 4, 9, 2, 1, 3, 7, 1, 6, 7, 7, 0, 3, 7, 8, 3, 0, 9, 5, 8,\n",
       "       0, 2, 4, 4, 2, 4, 4, 7, 6, 0, 9, 9, 0, 5, 0, 5, 0, 2, 9, 7, 1, 0,\n",
       "       3, 2, 3, 8, 5, 4, 3, 7, 2, 1, 9, 9])"
      ]
     },
     "execution_count": 28,
     "metadata": {},
     "output_type": "execute_result"
    }
   ],
   "source": [
    "y_pred"
   ]
  },
  {
   "cell_type": "code",
   "execution_count": 29,
   "id": "4ea9d61c",
   "metadata": {
    "execution": {
     "iopub.execute_input": "2023-06-01T11:08:35.773642Z",
     "iopub.status.busy": "2023-06-01T11:08:35.773231Z",
     "iopub.status.idle": "2023-06-01T11:08:35.778602Z",
     "shell.execute_reply": "2023-06-01T11:08:35.777181Z"
    },
    "id": "UfW3kxdApnsZ",
    "papermill": {
     "duration": 0.022086,
     "end_time": "2023-06-01T11:08:35.780986",
     "exception": false,
     "start_time": "2023-06-01T11:08:35.758900",
     "status": "completed"
    },
    "tags": []
   },
   "outputs": [],
   "source": [
    "from sklearn.metrics import confusion_matrix, classification_report"
   ]
  },
  {
   "cell_type": "code",
   "execution_count": 30,
   "id": "b69944f2",
   "metadata": {
    "execution": {
     "iopub.execute_input": "2023-06-01T11:08:35.811119Z",
     "iopub.status.busy": "2023-06-01T11:08:35.810426Z",
     "iopub.status.idle": "2023-06-01T11:08:35.818193Z",
     "shell.execute_reply": "2023-06-01T11:08:35.817234Z"
    },
    "id": "OrXquVmWpwgz",
    "outputId": "c62631f0-ed45-42c7-e740-e4b36657f3a8",
    "papermill": {
     "duration": 0.025042,
     "end_time": "2023-06-01T11:08:35.820396",
     "exception": false,
     "start_time": "2023-06-01T11:08:35.795354",
     "status": "completed"
    },
    "tags": []
   },
   "outputs": [
    {
     "data": {
      "text/plain": [
       "array([[53,  0,  0,  0,  2,  0,  0,  0,  0,  0],\n",
       "       [ 0, 46,  0,  0,  0,  0,  0,  0,  0,  0],\n",
       "       [ 0,  0, 49,  0,  0,  0,  0,  0,  0,  0],\n",
       "       [ 0,  0,  0, 58,  0,  1,  0,  2,  0,  1],\n",
       "       [ 0,  0,  0,  0, 60,  0,  0,  1,  0,  0],\n",
       "       [ 0,  0,  0,  0,  1, 47,  0,  0,  1,  1],\n",
       "       [ 1,  0,  0,  0,  0,  1, 52,  0,  0,  0],\n",
       "       [ 0,  0,  0,  0,  0,  0,  0, 59,  0,  1],\n",
       "       [ 0,  2,  1,  0,  0,  0,  0,  0, 49,  0],\n",
       "       [ 0,  0,  0,  0,  0,  1,  0,  0,  1, 49]])"
      ]
     },
     "execution_count": 30,
     "metadata": {},
     "output_type": "execute_result"
    }
   ],
   "source": [
    "confusion_matrix(y_test, y_pred)"
   ]
  },
  {
   "cell_type": "code",
   "execution_count": 31,
   "id": "8a8c6bfb",
   "metadata": {
    "execution": {
     "iopub.execute_input": "2023-06-01T11:08:35.848793Z",
     "iopub.status.busy": "2023-06-01T11:08:35.848100Z",
     "iopub.status.idle": "2023-06-01T11:08:35.862973Z",
     "shell.execute_reply": "2023-06-01T11:08:35.861585Z"
    },
    "id": "F3At0Qv8p18_",
    "outputId": "ba9a897c-fb31-40bb-faef-f09ad0dc7175",
    "papermill": {
     "duration": 0.032193,
     "end_time": "2023-06-01T11:08:35.865643",
     "exception": false,
     "start_time": "2023-06-01T11:08:35.833450",
     "status": "completed"
    },
    "tags": []
   },
   "outputs": [
    {
     "name": "stdout",
     "output_type": "stream",
     "text": [
      "              precision    recall  f1-score   support\n",
      "\n",
      "           0       0.98      0.96      0.97        55\n",
      "           1       0.96      1.00      0.98        46\n",
      "           2       0.98      1.00      0.99        49\n",
      "           3       1.00      0.94      0.97        62\n",
      "           4       0.95      0.98      0.97        61\n",
      "           5       0.94      0.94      0.94        50\n",
      "           6       1.00      0.96      0.98        54\n",
      "           7       0.95      0.98      0.97        60\n",
      "           8       0.96      0.94      0.95        52\n",
      "           9       0.94      0.96      0.95        51\n",
      "\n",
      "    accuracy                           0.97       540\n",
      "   macro avg       0.97      0.97      0.97       540\n",
      "weighted avg       0.97      0.97      0.97       540\n",
      "\n"
     ]
    }
   ],
   "source": [
    "print(classification_report(y_test,y_pred))"
   ]
  },
  {
   "cell_type": "code",
   "execution_count": null,
   "id": "ad8e522b",
   "metadata": {
    "id": "ZhSKRxVip8pC",
    "papermill": {
     "duration": 0.012935,
     "end_time": "2023-06-01T11:08:35.891775",
     "exception": false,
     "start_time": "2023-06-01T11:08:35.878840",
     "status": "completed"
    },
    "tags": []
   },
   "outputs": [],
   "source": []
  }
 ],
 "metadata": {
  "kernelspec": {
   "display_name": "Python 3",
   "language": "python",
   "name": "python3"
  },
  "language_info": {
   "codemirror_mode": {
    "name": "ipython",
    "version": 3
   },
   "file_extension": ".py",
   "mimetype": "text/x-python",
   "name": "python",
   "nbconvert_exporter": "python",
   "pygments_lexer": "ipython3",
   "version": "3.10.10"
  },
  "papermill": {
   "default_parameters": {},
   "duration": 19.145291,
   "end_time": "2023-06-01T11:08:36.927580",
   "environment_variables": {},
   "exception": null,
   "input_path": "__notebook__.ipynb",
   "output_path": "__notebook__.ipynb",
   "parameters": {},
   "start_time": "2023-06-01T11:08:17.782289",
   "version": "2.4.0"
  }
 },
 "nbformat": 4,
 "nbformat_minor": 5
}
